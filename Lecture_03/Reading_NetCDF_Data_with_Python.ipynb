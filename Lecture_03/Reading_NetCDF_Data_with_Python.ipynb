{
 "cells": [
  {
   "cell_type": "markdown",
   "id": "c496f7a0-7cfe-4fff-ab31-09827775ed44",
   "metadata": {
    "tags": []
   },
   "source": [
    "# Lecture 3: Reading NetCDF Data with Python\n",
    "\n",
    "In this notebook, we will explore two of the most common libraries for reading data in NetCDF format: **netCDF4** and **Xarray**.\n",
    "\n",
    "## netCDF4 Library\n",
    "[netCDF4 Documentation](https://unidata.github.io/netcdf4-python/)\n",
    "\n",
    "**netCDF4-python** is a Python interface to the **NetCDF-C library**. It provides a powerful set of tools for working with NetCDF data files.\n",
    "\n",
    "## Xarray Library\n",
    "[Xarray Documentation](https://docs.xarray.dev/en/stable/)\n",
    "\n",
    "**Xarray** simplifies the process of working with labeled multidimensional arrays in Python. It offers efficiency and ease of use when handling complex datasets.\n",
    "\n",
    "In this lecture, we will explore how to use these libraries to read and manipulate NetCDF data, enabling us to work effectively with meteorological datasets."
   ]
  },
  {
   "cell_type": "markdown",
   "id": "8f9d5ed5-28a6-452b-9f9f-772b125cbb83",
   "metadata": {
    "tags": []
   },
   "source": [
    "### Reading Data with netCDF4 in Python"
   ]
  },
  {
   "cell_type": "markdown",
   "id": "382d20b6",
   "metadata": {},
   "source": [
    "Before delving into the process of reading and handling remote sensing data, we start by importing a crucial component from the netCDF4 library in Python:"
   ]
  },
  {
   "cell_type": "markdown",
   "id": "0e839d2c",
   "metadata": {},
   "source": [
    "**What is netCDF4?**\n",
    "\n",
    "- `netCDF4` is a Python library that provides an interface to work with Network Common Data Form (netCDF) files. netCDF is a set of software libraries and machine-independent data formats that support the creation, access, and sharing of array-oriented scientific data.\n",
    "\n",
    "**Why Dataset?**\n",
    "\n",
    "- The `Dataset` class within the `netCDF4` library is fundamental for working with netCDF files. It allows us to open, inspect, manipulate, and create netCDF files in Python. \n",
    "\n",
    "**Key Functionalities:**\n",
    "\n",
    "- **Reading Data:** `Dataset` can be used to open existing netCDF files in either read-only or write-access modes, allowing for the examination and analysis of the data stored in these files.\n",
    "- **Metadata Exploration:** With this class, we can easily explore the metadata of the netCDF files, understanding dimensions, variables, and attributes that describe the data.\n",
    "- **Data Manipulation:** Besides reading, the `Dataset` class also facilitates modifying existing data or creating new data within the netCDF files, making it a versatile tool for data processing in remote sensing.\n",
    "\n",
    "**Application in Remote Sensing:**\n",
    "\n",
    "- In the context of remote sensing, netCDF files are commonly used for storing multidimensional datasets, such as satellite imagery or atmospheric data models. Utilizing the `Dataset` class, we can efficiently handle these complex datasets for various applications, including climate analysis, weather prediction, and environmental monitoring.\n",
    "\n",
    "As we progress through this course, you will learn how to effectively utilize the `Dataset` class from the `netCDF4` library to read, analyze, and manipulate remote sensing data stored in netCDF format, equipping you with essential skills for data-driven exploration and analysis in the field of remote sensing."
   ]
  },
  {
   "cell_type": "code",
   "execution_count": null,
   "id": "47ed04cc-8f04-47a8-bc15-9e778933e8a7",
   "metadata": {},
   "outputs": [],
   "source": [
    "# import necessary library\n",
    "\n",
    "# Your code goes here:\n"
   ]
  },
  {
   "cell_type": "code",
   "execution_count": null,
   "id": "14924f99-45de-4865-a947-74b0cb0b7042",
   "metadata": {},
   "outputs": [],
   "source": [
    "# Define the file path for the ABI data\n",
    "path2data = \"./Input_data/ABI-L2-CMIPC/s20180471917\"\n",
    "\n",
    "# Set the name of the netCDF data file\n",
    "name2data = \"OR_ABI-L2-CMIPC-M3C13_G16_s20180471917196_e20180471919581_c20180471920028.nc\"\n",
    "\n",
    "# Construct the full file path by combining the directory path and file name\n",
    "# Your code goes here:\n",
    "\n"
   ]
  },
  {
   "cell_type": "code",
   "execution_count": null,
   "id": "58a05883-c59a-4e31-a1ba-52563a9f4c26",
   "metadata": {},
   "outputs": [],
   "source": [
    "# Open the netCDF file for the C08 channel using the Dataset class\n",
    "# Your code goes here:\n",
    "\n",
    "\n"
   ]
  },
  {
   "cell_type": "code",
   "execution_count": null,
   "id": "92ed32c1-fd00-4bbe-8902-2d18b8532521",
   "metadata": {},
   "outputs": [],
   "source": [
    "#Access the Cloud and Moisture Imagery (CMI) variable \n",
    "# Your code goes here:\n",
    "\n"
   ]
  },
  {
   "cell_type": "markdown",
   "id": "5c8ec5fc-f85c-4996-b18c-bafb064a801c",
   "metadata": {},
   "source": [
    "## Reading Data with Xarray"
   ]
  },
  {
   "cell_type": "code",
   "execution_count": null,
   "id": "e0aa16c4-d8af-4f3f-83a6-ef781a14b3f5",
   "metadata": {},
   "outputs": [],
   "source": [
    "# Import xarray library for working with labeled multi-dimensional arrays\n",
    "# Your code goes here:\n",
    "\n"
   ]
  },
  {
   "cell_type": "code",
   "execution_count": null,
   "id": "613a8c96-4f49-40b9-9e7e-d747ad1f14b9",
   "metadata": {
    "scrolled": true
   },
   "outputs": [],
   "source": [
    "# Define the full file path for the dataset\n",
    "# Your code goes here:\n",
    "\n",
    "# Load the dataset into an xarray object for easy data manipulation\n",
    "# Your code goes here:\n",
    "\n",
    "# Display the contents of the dataset\n",
    "# Your code goes here:"
   ]
  },
  {
   "cell_type": "code",
   "execution_count": null,
   "id": "c25de321-6187-436c-89ca-be58658fd6cb",
   "metadata": {},
   "outputs": [],
   "source": [
    "# Configure matplotlib to show figures embedded in the notebook\n",
    "# Your code goes here:\n",
    "\n",
    "\n",
    "# Plot the 'CMI' variable from the netCDF dataset using xarray's plotting capabilities\n",
    "# Your code goes here:"
   ]
  },
  {
   "cell_type": "code",
   "execution_count": null,
   "id": "23de5861-f0ca-436e-bd8e-8a22351d3c8a",
   "metadata": {},
   "outputs": [],
   "source": [
    "# Retrieve and display the attributes of the 'CMI' variable in the dataset\n",
    "# Your code goes here:\n",
    "\n"
   ]
  },
  {
   "cell_type": "code",
   "execution_count": null,
   "id": "79bca4ff-28ec-47ff-8141-c505b7696a1e",
   "metadata": {},
   "outputs": [],
   "source": [
    "# Import the matplotlib.pyplot module for plotting graphs\n",
    "# Your code goes here:\n",
    "\n"
   ]
  },
  {
   "cell_type": "code",
   "execution_count": null,
   "id": "90b9ea40-fc1a-4e37-8ec7-6d65df17842a",
   "metadata": {},
   "outputs": [],
   "source": [
    "# Create a figure with specific dimensions\n",
    "# Your code goes here:\n",
    "\n",
    "\n",
    "\n",
    "# Add a subplot to the figure\n",
    "# Your code goes here:\n",
    "\n",
    "\n",
    "\n",
    "# Display the 'CMI' variable data as an image with specified colormap and origin\n",
    "# Your code goes here:\n",
    "\n"
   ]
  },
  {
   "cell_type": "code",
   "execution_count": null,
   "id": "27a3d6e9-57c3-4bc4-b2ea-af92ed1275db",
   "metadata": {},
   "outputs": [],
   "source": [
    "# Import the NumPy library for numerical operations on arrays\n",
    "# Your code goes here:\n",
    "\n"
   ]
  },
  {
   "cell_type": "code",
   "execution_count": null,
   "id": "76d9d2ff-110e-44ef-87b2-c3009c2e1c70",
   "metadata": {},
   "outputs": [],
   "source": [
    "# Define a custom color map for the infrared imagery\n",
    "cmap = ['#ffffff', '#ffffff', '#ffffff', '#ffffff', '#ffffff', '#b6ffb6', '#79ff79', '#00ff00', '#ff8e8e', '#ff5151', '#ff0000', '#aa0000', '#550000', '#00ffff', '#00bef3', '#0079ca', \n",
    "        '#0028a2', '#000079', '#fbfb00', '#e7e700', '#d2d200', '#baba00', '#a6a600', '#8e8e00', '#797900', '#656500', '#dbdbdb', '#d2d2d2', '#cacaca', '#c2c2c2', '#bababa', '#b2b2b2', \n",
    "        '#aaaaaa', '#a6a6a6', '#9e9e9e', '#969696', '#8e8e8e', '#868686', '#7d7d7d', '#757575', '#6d6d6d', '#656565', '#5d5d5d', '#595959', '#515151', '#494949', '#414141', '#393939',\n",
    "        '#313131', '#282828', '#202020', '#181818', '#141414', '#000000', '#000000', '#000000', '#000000', '#000000', '#000000', '#000000', '#000000', '#000000', '#000000', '#000000',]\n",
    "\n",
    "# Create evenly spaced levels for the color map ranging from -109 to 56\n",
    "levels = np.linspace(-109, 56, num=len(cmap))\n",
    "\n",
    "# Establish a boundary norm which maps values to intervals within the color map\n",
    "norm = plt.cm.colors.BoundaryNorm(levels, len(levels))\n",
    "\n",
    "# Create a ListedColormap object using the custom color map\n",
    "# Your code goes here:\n",
    "\n"
   ]
  },
  {
   "cell_type": "code",
   "execution_count": null,
   "id": "0cd78d45-ff8f-4082-87cd-a2102dad2e74",
   "metadata": {},
   "outputs": [],
   "source": [
    "# Create a figure with a specified size\n",
    "# Your code goes here:\n",
    "\n",
    "\n",
    "\n",
    "# Add a subplot to the figure\n",
    "# Your code goes here:\n",
    "\n",
    "\n",
    "\n",
    "# Display the 'CMI' variable data as an image, setting the color range and custom colormap\n",
    "# Your code goes here:\n",
    "\n"
   ]
  },
  {
   "cell_type": "code",
   "execution_count": null,
   "id": "2583ffa0-0e20-4030-9c1d-7dac05ba66fd",
   "metadata": {},
   "outputs": [],
   "source": [
    "# Import the ticker module from matplotlib for customizing axis ticks\n",
    "# Your code goes here:\n",
    "\n",
    "\n",
    "\n",
    "# Import cartopy's coordinate reference system submodule for map projections\n",
    "# Your code goes here:\n",
    "\n"
   ]
  },
  {
   "cell_type": "code",
   "execution_count": null,
   "id": "067093fd-6623-4708-b5d4-be25743bffae",
   "metadata": {},
   "outputs": [],
   "source": [
    "# Access the 'goes_imager_projection' variable from the dataset to get projection information\n",
    "# Your code goes here:\n",
    "\n"
   ]
  },
  {
   "cell_type": "code",
   "execution_count": null,
   "id": "3aef8fef-5d6f-45e2-9c21-d933a51d9037",
   "metadata": {},
   "outputs": [],
   "source": [
    "# Retrieve the projection variable from the dataset\n",
    "# Your code goes here:\n",
    "\n",
    "\n",
    "\n",
    "# Extract the satellite height from the projection variable\n",
    "# Your code goes here:\n",
    "\n",
    "\n",
    "\n",
    "# Get the longitude of the projection origin (central longitude)\n",
    "# Your code goes here:\n",
    "\n",
    "\n",
    "\n",
    "# Obtain the values for the semi-major and semi-minor axes of the Earth's ellipsoid\n",
    "# Your code goes here:\n",
    "\n",
    "\n",
    "\n",
    "# Determine the sweep angle axis (orientation of the satellite)\n",
    "# Your code goes here:\n",
    "\n"
   ]
  },
  {
   "cell_type": "code",
   "execution_count": null,
   "id": "b7a8e351-9c95-40df-8311-3f7bf5b72a5c",
   "metadata": {},
   "outputs": [],
   "source": [
    "# Scale the x and y coordinates by the satellite height to get actual distances\n",
    "# Your code goes here:\n",
    "\n",
    "\n",
    "\n",
    "# Determine the number of lines (rows) and columns in the data based on y and x dimensions\n",
    "# Your code goes here:\n",
    "\n",
    "\n"
   ]
  },
  {
   "cell_type": "code",
   "execution_count": null,
   "id": "b5cc4d40-c946-41bb-827b-d4070e82bc3a",
   "metadata": {},
   "outputs": [],
   "source": [
    "# Create a figure with a specified size\n",
    "# Your code goes here:\n",
    "fig = \n",
    "\n",
    "# Set up a globe model using the semi-major and semi-minor axes values\n",
    "# Your code goes here:\n",
    "globe = \n",
    "\n",
    "# Initialize a geostationary projection using the central longitude and satellite height\n",
    "# Your code goes here:\n",
    "geos = \n",
    "\n",
    "\n",
    "# Add a subplot to the figure with the specified geostationary projection\n",
    "# Your code goes here:\n",
    "ax = \n",
    "\n",
    "\n",
    "# Display the 'CMI' variable data as an image with custom extent and colormap, using the geostationary projection\n",
    "ir_img = ax.imshow(ncx['CMI'].data, origin='upper', extent=(x.min(), \n",
    "                            y.min(), x.max(), y.max()), cmap=\"Greys_r\", transform=geos)"
   ]
  },
  {
   "cell_type": "code",
   "execution_count": null,
   "id": "184612cd-9307-482b-b773-4493812502a1",
   "metadata": {},
   "outputs": [],
   "source": [
    "# Import the glob module to find all the pathnames matching a specified pattern\n",
    "# Your code goes here:\n",
    "\n"
   ]
  },
  {
   "cell_type": "code",
   "execution_count": null,
   "id": "856abae3-932a-4de9-9536-2d41b9e6c6f0",
   "metadata": {},
   "outputs": [],
   "source": [
    "# Define the directory path containing the .nc (netCDF) files\n",
    "fllst = 'Input_data\\ABI-L2-CMIPC\\s20180471917'\n",
    "\n",
    "# Use glob to retrieve a list of all .nc files in the specified directory\n",
    "# Your code goes here:\n",
    "\n",
    "\n",
    "\n",
    "# Display the list of .nc files\n",
    "# Your code goes here:\n",
    "\n"
   ]
  },
  {
   "cell_type": "code",
   "execution_count": null,
   "id": "e584ca43-b989-46b8-9579-9a00af617f41",
   "metadata": {},
   "outputs": [],
   "source": [
    "# Access the third file in the list of .nc files\n",
    "# Your code goes here:\n",
    "\n"
   ]
  },
  {
   "cell_type": "code",
   "execution_count": null,
   "id": "8e656ef5-302a-476a-ba90-1be8f03bdb57",
   "metadata": {},
   "outputs": [],
   "source": [
    "# Open the 13th .nc file in the list using xarray\n",
    "# Your code goes here:\n",
    "\n",
    "\n",
    "\n",
    "# Display the contents of the opened dataset\n",
    "# Your code goes here:\n",
    "\n"
   ]
  },
  {
   "cell_type": "code",
   "execution_count": null,
   "id": "8c91fa74-37bf-4d87-8601-ede37d76e769",
   "metadata": {},
   "outputs": [],
   "source": [
    "# Create a figure with a specified size\n",
    "# Your code goes here:\n",
    "\n",
    "\n",
    "\n",
    "# Set up a globe model using the semi-major and semi-minor axes values\n",
    "globe = ccrs.Globe(ellipse='sphere', semimajor_axis=semi_major, semiminor_axis=semi_minor)\n",
    "\n",
    "# Initialize a geostationary projection using the central longitude and satellite height\n",
    "geos = ccrs.Geostationary(central_longitude=central_lon, satellite_height=sat_h, sweep_axis=sweep, globe=globe)\n",
    "\n",
    "# Add a subplot to the figure with the specified geostationary projection\n",
    "ax = fig.add_subplot(1, 1, 1, projection=geos)\n",
    "\n",
    "# Display the 'CMI' variable data from the second dataset as an image with custom extents and colormap, \n",
    "# using the geostationary projection\n",
    "ir_img = ax.imshow(ncx2['CMI'].data, origin='upper', vmin=-109+273.15, vmax=56+273.15, extent=(x.min(), y.min(),                                                                             \n",
    "                   x.max(), y.max()), cmap=\"jet_r\", transform=geos)"
   ]
  },
  {
   "cell_type": "code",
   "execution_count": null,
   "id": "9c9806a8-81d0-4901-95cf-766137051cd0",
   "metadata": {},
   "outputs": [],
   "source": [
    "# Create a figure with a specified size for visualization\n",
    "# Your code goes here:\n",
    "fig = \n",
    "\n",
    "# Define a custom colormap for the image\n",
    " # A series of color codes representing different temperature ranges\n",
    "cmap = ['#ffffff', '#ffffff', '#ffffff', '#ffffff', '#ffffff', '#b6ffb6', '#79ff79', '#00ff00', \n",
    "        '#ff8e8e', '#ff5151', '#ff0000', '#aa0000', '#550000', '#00ffff', '#00bef3', '#0079ca', \n",
    "        '#0028a2', '#000079', '#fbfb00', '#e7e700', '#d2d200', '#baba00', '#a6a600', '#8e8e00', \n",
    "        '#797900', '#656500', '#dbdbdb', '#d2d2d2', '#cacaca', '#c2c2c2', '#bababa', '#b2b2b2', \n",
    "        '#aaaaaa', '#a6a6a6', '#9e9e9e', '#969696', '#8e8e8e', '#868686', '#7d7d7d', '#757575', \n",
    "        '#6d6d6d', '#656565', '#5d5d5d', '#595959', '#515151', '#494949', '#414141', '#393939',\n",
    "        '#313131', '#282828', '#202020', '#181818', '#141414', '#000000', '#000000', '#000000', \n",
    "        '#000000', '#000000', '#000000', '#000000', '#000000', '#000000', '#000000', '#000000',]\n",
    "\n",
    "# Create a range of levels corresponding to the colors in the custom colormap\n",
    "# Your code goes here:\n",
    "levels = \n",
    "\n",
    "# Set up a normalization scheme based on the defined levels\n",
    "# Your code goes here:\n",
    "norm = \n",
    "\n",
    "\n",
    "# Create a ListedColormap object with the custom colormap\n",
    "# Your code goes here:\n",
    "irmap = \n",
    "\n",
    "# Set up a globe model using the semi-major and semi-minor axes values\n",
    "# Your code goes here:\n",
    "globe = \n",
    "\n",
    "# Initialize a geostationary projection using the central longitude and satellite height\n",
    "# Your code goes here:\n",
    "geos = \n",
    "\n",
    "# Add a subplot to the figure with the specified geostationary projection\n",
    "# Your code goes here:\n",
    "ax = \n",
    "\n",
    "\n",
    "# Display the 'CMI' variable data from the second dataset as an image with custom extents and colormap, \n",
    "# using the geostationary projection\n",
    "ir_img = ax.imshow(ncx2['CMI'].data, origin='upper', vmin=-109+273.15, vmax=56+273.15, extent=(x.min(), \n",
    "                                                y.min(), x.max(), y.max()), cmap=irmap, transform=geos)"
   ]
  },
  {
   "cell_type": "code",
   "execution_count": null,
   "id": "5bcaadb9-af18-4b05-8cb3-f396d694222e",
   "metadata": {},
   "outputs": [],
   "source": [
    "# Initialize a figure with a specified size (12 inches by 12 inches)\n",
    "# Your code goes here:\n",
    "fig = \n",
    "\n",
    "# Custom colormap defined by specific color codes, likely representing different data ranges or intensities\n",
    "cmap = ['#ffffff', '#ffffff', '#ffffff', '#ffffff', '#ffffff', '#b6ffb6', '#79ff79', '#00ff00', \n",
    "        '#ff8e8e', '#ff5151', '#ff0000', '#aa0000', '#550000', '#00ffff', '#00bef3', '#0079ca', \n",
    "        '#0028a2', '#000079', '#fbfb00', '#e7e700', '#d2d200', '#baba00', '#a6a600', '#8e8e00', \n",
    "        '#797900', '#656500', '#dbdbdb', '#d2d2d2', '#cacaca', '#c2c2c2', '#bababa', '#b2b2b2', \n",
    "        '#aaaaaa', '#a6a6a6', '#9e9e9e', '#969696', '#8e8e8e', '#868686', '#7d7d7d', '#757575', \n",
    "        '#6d6d6d', '#656565', '#5d5d5d', '#595959', '#515151', '#494949', '#414141', '#393939',\n",
    "        '#313131', '#282828', '#202020', '#181818', '#141414', '#000000', '#000000', '#000000', \n",
    "        '#000000', '#000000', '#000000', '#000000', '#000000', '#000000', '#000000', '#000000',]\n",
    "\n",
    "# Create an array of levels corresponding to the custom colormap\n",
    "# Your code goes here:\n",
    "levels = \n",
    "\n",
    "# Establish a normalization rule using the defined levels for consistent data representation\n",
    "# Your code goes here:\n",
    "norm = \n",
    "\n",
    "# Create a colormap object from the custom list of colors\n",
    "# Your code goes here:\n",
    "irmap = \n",
    "\n",
    "# Define a globe model, considering Earth's shape as a sphere with given major and minor axes\n",
    "# Your code goes here:\n",
    "globe = \n",
    "\n",
    "# Set up a geostationary projection using satellite parameters\n",
    "# Your code goes here:\n",
    "geos = \n",
    "\n",
    "# Add a subplot to the figure using the geostationary projection\n",
    "# Your code goes here:\n",
    "ax = \n",
    "\n",
    "# Display the satellite data (CMI variable from ncx2) as an image in the subplot\n",
    "# The 'origin' at 'upper' signifies the origin point of the coordinate system\n",
    "# 'vmin' and 'vmax' set the data value limits for color mapping\n",
    "# The 'extent' specifies the display boundaries in data coordinates\n",
    "# The colormap 'irmap' is used for coloring, and 'transform' aligns the data with the specified projection\n",
    "ir_img = ax.imshow(ncx2['CMI'].data, origin='upper', vmin=-109+273.15, vmax=56+273.15, extent=(x.min(), \n",
    "                                                y.min(), x.max(), y.max()), cmap=irmap, transform=geos)\n",
    "\n",
    "# Set the extent of the map display to specific longitude and latitude limits\n",
    "\n",
    "# Your code goes here:\n",
    "                                                 # Set the map display boundaries"
   ]
  }
 ],
 "metadata": {
  "kernelspec": {
   "display_name": "Python 3 (ipykernel)",
   "language": "python",
   "name": "python3"
  },
  "language_info": {
   "codemirror_mode": {
    "name": "ipython",
    "version": 3
   },
   "file_extension": ".py",
   "mimetype": "text/x-python",
   "name": "python",
   "nbconvert_exporter": "python",
   "pygments_lexer": "ipython3",
   "version": "3.10.9"
  }
 },
 "nbformat": 4,
 "nbformat_minor": 5
}
