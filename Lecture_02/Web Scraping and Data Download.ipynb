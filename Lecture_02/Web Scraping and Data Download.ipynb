{
 "cells": [
  {
   "cell_type": "markdown",
   "id": "2eb4913e-adf0-4735-bb6a-287c8c44c8a2",
   "metadata": {},
   "source": [
    "# Lecture 2: Web Scraping and Data Download\n",
    "\n",
    "## Introduction\n",
    "\n",
    "In this second lecture, we will dive into web scraping and data download for meteorological analysis. You might already be familiar with the user-friendly data download page created by **Brian K. Blaylock**, which allows manual data retrieval:\n",
    "\n",
    "[**Brian K. Blaylock - GOES-16 Data Download**](https://home.chpc.utah.edu/~u0553130/Brian_Blaylock/cgi-bin/goes16_download.cgi)\n",
    "\n",
    "While this manual download method is convenient, it may not be suitable for automated data acquisition. That's why we will explore the concept of **\"Web scraping\"** to automate this process and make it more efficient.\n",
    "\n",
    "Explore [**NOAA GOES on AWS**](https://docs.opendata.aws/noaa-goes16/cics-readme.html#accessing-goes-data-on-aws)\n",
    "\n",
    "Let's get started!"
   ]
  },
  {
   "cell_type": "code",
   "execution_count": null,
   "id": "86e2f83a-7874-4eed-ac98-ab3aa33ec9eb",
   "metadata": {},
   "outputs": [],
   "source": [
    "# Importing the datetime module to work with date and time information.\n",
    "## complete you code here:\n",
    "\n"
   ]
  },
  {
   "cell_type": "markdown",
   "id": "b9df2d99-6d31-45f3-8fec-70b7c5ee76e5",
   "metadata": {},
   "source": [
    "The basic date and time types could be obtained using the \"datetime\" Library\n",
    "https://docs.python.org/3/library/datetime.html"
   ]
  },
  {
   "cell_type": "code",
   "execution_count": null,
   "id": "d251b347-657b-4673-8edb-4999e7d22467",
   "metadata": {},
   "outputs": [],
   "source": [
    "# Create a datetime object representing the current UTC time.\n",
    "## complete you code here:\n",
    "\n"
   ]
  },
  {
   "cell_type": "code",
   "execution_count": null,
   "id": "98012180",
   "metadata": {},
   "outputs": [],
   "source": [
    "# Display current date\n",
    "## complete you code here:\n",
    "\n"
   ]
  },
  {
   "cell_type": "code",
   "execution_count": null,
   "id": "8cb09537-de59-4325-b4d4-abc306ac424e",
   "metadata": {},
   "outputs": [],
   "source": [
    "# Display a message along with the current UTC time.\n",
    "## complete you code here:\n",
    "\n"
   ]
  },
  {
   "cell_type": "code",
   "execution_count": null,
   "id": "a61ccdf0-53f2-4894-b768-1a009bbb83ec",
   "metadata": {},
   "outputs": [],
   "source": [
    "# Define a dictionary 'dini' containing parameters for data download URL construction.\n",
    "dini = {\n",
    "## complete you code here:    \n",
    "    'src': ,                    # Data source\n",
    "    'sat': ,                    # Satellite (GOES-16)\n",
    "    'str': ,                    # Spatial domain (e.g., 'F' for full disk)\n",
    "    'prd': ,                    # Product type (e.g., ABI-L1b-Rad for radiance data)\n",
    "    'tme': dnow                 # Date and time (current UTC time)\n",
    "}"
   ]
  },
  {
   "cell_type": "code",
   "execution_count": null,
   "id": "668fb2e1-8667-4bb8-9274-138f73845cec",
   "metadata": {},
   "outputs": [],
   "source": [
    "# Construct the URL for data download using the provided parameters.\n",
    "url = (\n",
    "    'https://home.chpc.utah.edu'\n",
    "    '/~u0553130/Brian_Blaylock/cgi-bin/goes16_download.cgi?'\n",
    "    'source={src}&'\n",
    "    'satellite=noaa-goes{sat}&'\n",
    "    'domain={str}&'\n",
    "    'product={prd}&'\n",
    "    ## complete you code here:\n",
    "    'date=         '                # Format the date as 'YYYY-MM-DD'\n",
    "    'hour=         '                # Format the hour as 'HH'\n",
    ")"
   ]
  },
  {
   "cell_type": "code",
   "execution_count": null,
   "id": "c45793be-40cd-4b2f-a72d-b1fea0a14dd8",
   "metadata": {},
   "outputs": [],
   "source": [
    "# Print the constructed URL with parameter values applied using string formatting.\n",
    "## complete you code here:\n",
    "\n",
    "\n"
   ]
  },
  {
   "cell_type": "code",
   "execution_count": null,
   "id": "21b14577-8ecf-4706-9e4f-bc1bce0d7b43",
   "metadata": {},
   "outputs": [],
   "source": [
    "# Import the 'requests' library for making HTTP requests.\n",
    "## complete you code here:\n",
    "\n",
    "# Import 'BeautifulSoup' from the 'bs4' library for web scraping and parsing HTML.\n",
    "## complete you code here:\n",
    "\n",
    "# Import 'minidom' from 'xml.dom' for working with XML data.\n",
    "## complete you code here:\n"
   ]
  },
  {
   "cell_type": "code",
   "execution_count": null,
   "id": "bf3cb8b2",
   "metadata": {},
   "outputs": [],
   "source": [
    "# Construct the complete URL with parameter values applied.\n",
    "## complete you code here:\n",
    "urit = \n",
    "\n",
    "# Make an HTTP GET request to the constructed URL.\n",
    "## complete you code here:\n",
    "response = \n",
    "\n",
    "# Parse the HTML content of the response using BeautifulSoup.\n",
    "## complete you code here:\n",
    "dates = \n",
    "\n",
    "# Find all elements with class 'mybtn-group' in the parsed HTML.\n",
    "## complete you code here:\n",
    "alltimesxml = \n",
    "\n",
    "\n",
    "# Display the scraped HTML content stored in the 'alltimesxml' variable.\n",
    "## complete you code here:\n",
    "alltimesxml"
   ]
  },
  {
   "cell_type": "code",
   "execution_count": null,
   "id": "812ee37d-7814-4d18-8a5a-760072cd8bc0",
   "metadata": {},
   "outputs": [],
   "source": [
    "# Initialize an empty list to store the data to be downloaded.\n",
    "## complete you code here:\n",
    "ls2down = \n",
    "\n",
    "# Initialize 'nps' to -1 as an initial value.\n",
    "nps = -1\n",
    "\n",
    "# Iterate through the elements in 'alltimesxml'.\n",
    "for i in range(len(alltimesxml)):\n",
    "    # Find all 'a' tags within the current element.\n",
    "    tags = alltimesxml[i].find_all('a')\n",
    "    \n",
    "    # Initialize an empty list to store time differences.\n",
    "    nwdts = []\n",
    "    \n",
    "    # Iterate through the 'a' tags.\n",
    "    for j in range(len(tags)):\n",
    "        # Extract the date and time information from the 'href' attribute.\n",
    "        dts = tags[j].attrs['href'].split('/',)[-1]\n",
    "        \n",
    "        # Split the date and time string to extract the timestamp.\n",
    "        lsfst = dts.split('_')\n",
    "        dtstr = lsfst[-3]\n",
    "        \n",
    "        # Convert the timestamp to a datetime object.\n",
    "        ndnow = datetime.strptime(dtstr, 's%Y%j%H%M%S%f')\n",
    "        \n",
    "        # Calculate the time difference in minutes.\n",
    "        tmdf = ndnow.minute - dnow.minute\n",
    "        \n",
    "        # Append the absolute time difference to the list.\n",
    "        nwdts.append(abs(tmdf))\n",
    "    \n",
    "    # Find the index with the minimum time difference.\n",
    "    id1 = min(nwdts)\n",
    "    \n",
    "    # If 'nps' is 0 and the minimum time difference is less than 'dtm', update 'nps'.\n",
    "    if nps == 0 and id1 < dtm:\n",
    "        nps = nwdts.index(id1)\n",
    "    \n",
    "    # Extract the filename and button text from the 'a' tag.\n",
    "    lsfst = tags[nps].attrs['href'].split('/',)[-1]\n",
    "    print(lsfst + ' - ' + tags[j].button.text)\n",
    "    \n",
    "    # Append the filename to the 'ls2down' list.\n",
    "    ls2down.append(lsfst)"
   ]
  },
  {
   "cell_type": "code",
   "execution_count": null,
   "id": "de7745f9-e10b-43b7-a847-dcebab3f012e",
   "metadata": {},
   "outputs": [],
   "source": [
    "# Check if the 'str' key in the dini dictionary contains 'M' (indicating a specific domain)\n",
    "if 'M' in dini['str']:\n",
    "    # If 'M' is found, update the 'str' key in the dini dictionary to 'M' for consistency\n",
    "    dini.update({'str':'M'})\n",
    "\n",
    "# Construct the base URL for downloading the data using formatted string. \n",
    "# This URL includes placeholders for satellite (sat), product (prd), and time (tme) parameters, \n",
    "# which are filled in from the dini dictionary.\n",
    "url_base = 'https://noaa-goes{sat}.s3.amazonaws.com/{prd}{str}/{tme:%Y}/{tme:%j}/{tme:%H}/'.format(**dini)\n",
    "\n",
    "# Initialize an empty list to store the complete URLs for downloading the data files\n",
    "## complete you code here:\n",
    "\n",
    "# Iterate over each item in the list of file identifiers (ls2down)\n",
    "for urli in ls2down:\n",
    "    # Uncomment the next line to print each constructed URL before adding it to the list (for debugging)\n",
    "    # print(f'{url_base}{urli}')\n",
    "    # Append the full URL for each file to the urls2dwn list. This URL is constructed by combining\n",
    "    # the base URL with the specific file identifier (urli), allowing for direct access to each file.\n",
    "    \n",
    "    ## complete you code here:\n",
    "    "
   ]
  },
  {
   "cell_type": "code",
   "execution_count": null,
   "id": "ceb4df4f-aed3-4636-8b96-c57dfee5cdaf",
   "metadata": {},
   "outputs": [],
   "source": [
    "import requests\n",
    "import os\n",
    "\n",
    "# Prompt the user to enter the download folder path. \n",
    "download_folder = input(\"Enter the path to the download folder: \") # you can name the download folder \"input\"\n",
    " \n",
    "# URL of the file to download.\n",
    "urld = 'https://noaa-goes16.s3.amazonaws.com/ABI-L1b-RadM/2022/306/17/OR_ABI-L1b-RadM1-M6C13_G16_s20223061734250_e20223061734319_c20223061734351.nc'\n",
    "\n",
    "# Send an HTTP GET request to the URL.\n",
    "response = requests.get(urld)\n",
    "\n",
    "# Check if the response is successful (status code 200).\n",
    "if response.status_code == 200:\n",
    "    # Extract the filename from the URL.\n",
    "    filename = os.path.basename(urld)\n",
    "\n",
    "    # Construct the complete path to save the file in the chosen download folder.\n",
    "    file_path = os.path.join(download_folder, filename)\n",
    "\n",
    "    # Write the content to the file in binary mode.\n",
    "    with open(file_path, \"wb\") as file:\n",
    "        file.write(response.content)\n",
    "\n",
    "    print(f\"File '{filename}' downloaded and saved to '{download_folder}'.\")\n",
    "    # Press enter if you want to save the file in the current directory \n",
    "else:\n",
    "    print(\"Failed to download the file. Check the URL or your internet connection.\")"
   ]
  },
  {
   "cell_type": "code",
   "execution_count": null,
   "id": "1487f48a",
   "metadata": {},
   "outputs": [],
   "source": [
    "# Display the URLs for downloading the data files.\n",
    "\n"
   ]
  },
  {
   "cell_type": "code",
   "execution_count": null,
   "id": "aac5612d",
   "metadata": {},
   "outputs": [],
   "source": [
    "import requests\n",
    "import os\n",
    "\n",
    "try:\n",
    "    # Prompt the user to enter the download folder path.\n",
    "    download_folder = input(\"Enter the path to the download folder: \") # you can name the download folder \"input\"\n",
    "\n",
    "    # Ensure the download folder exists.\n",
    "    if not os.path.isdir(download_folder):\n",
    "        print(f\"Creating download folder at '{download_folder}'.\")\n",
    "        os.makedirs(download_folder, exist_ok=True)\n",
    "\n",
    "    # URL of the file to download.\n",
    "    urld = 'https://noaa-goes16.s3.amazonaws.com/ABI-L1b-RadM/2022/306/17/OR_ABI-L1b-RadM1-M6C13_G16_s20223061734250_e20223061734319_c20223061734351.nc'\n",
    "\n",
    "    print(\"Attempting to download the file...\")\n",
    "    # Send an HTTP GET request to the URL.\n",
    "    response = requests.get(urld, stream=True)\n",
    "\n",
    "    # Check if the response is successful (status code 200).\n",
    "    if response.status_code == 200:\n",
    "        # Extract the filename from the URL.\n",
    "        filename = os.path.basename(urld)\n",
    "\n",
    "        # Construct the complete path to save the file in the chosen download folder.\n",
    "        file_path = os.path.join(download_folder, filename)\n",
    "\n",
    "        # Write the content to the file in binary mode.\n",
    "        with open(file_path, \"wb\") as file:\n",
    "            for chunk in response.iter_content(chunk_size=8192):\n",
    "                file.write(chunk)\n",
    "\n",
    "        print(f\"File '{filename}' downloaded and saved to '{download_folder}'.\")\n",
    "    else:\n",
    "        print(f\"Failed to download the file. Server responded with status code: {response.status_code}. Check the URL or your internet connection.\")\n",
    "except Exception as e:\n",
    "    print(f\"An error occurred: {e}\")"
   ]
  },
  {
   "cell_type": "code",
   "execution_count": null,
   "id": "8d657e48",
   "metadata": {},
   "outputs": [],
   "source": [
    "import requests\n",
    "import os\n",
    "\n",
    "# Specify the local directory where you want to save the files. # you can name the download folder \"input\"\n",
    "local_directory = input(\"Enter the path to the download folder: \")\n",
    "\n",
    "# Ensure that the local directory exists; create it if it doesn't.\n",
    "os.makedirs(local_directory, exist_ok=True)\n",
    "\n",
    "# Iterate through the URLs and download files.\n",
    "for urld in urls2dwn:\n",
    "    # Extract the filename from the URL.\n",
    "    ntw = urld.split('/')[-1]\n",
    "    \n",
    "    # Construct the complete path to save the file in the local directory.\n",
    "    file_path = os.path.join(local_directory, ntw)\n",
    "    \n",
    "    # Send an HTTP GET request to the URL.\n",
    "    resp = requests.get(urld)\n",
    "    \n",
    "    # Check if the response is successful (status code 200).\n",
    "    if resp.status_code == 200:\n",
    "        # Write the content to the file in binary mode.\n",
    "        with open(file_path, \"wb\") as file:\n",
    "            file.write(resp.content)\n",
    "        print(f\"File '{ntw}' downloaded and saved to '{local_directory}'.\")\n",
    "    else:\n",
    "        print(f\"Failed to download '{ntw}' from the URL: {urld}\")\n",
    "\n",
    "## complete you code here:\n",
    "\n"
   ]
  },
  {
   "cell_type": "code",
   "execution_count": null,
   "id": "089a6b0e",
   "metadata": {},
   "outputs": [],
   "source": [
    "# Import necessary AWS SDK and configuration modules.\n",
    "## complete you code here:\n",
    "\n",
    "\n"
   ]
  },
  {
   "cell_type": "code",
   "execution_count": null,
   "id": "bb685b55",
   "metadata": {},
   "outputs": [],
   "source": [
    "# Select the AWS S3 bucket name, remote file path, and local destination file name.\n",
    "## complete you code here:\n",
    "s3_bucket = \n",
    "bucket_file = 'ABI-L2-MCMIPF/2022/273/03/OR_ABI-L2-MCMIPF-M6_G16_s20222730350207_e20222730359521_c20222730400027.nc'\n",
    "local_file = 'OR_ABI-L2-MCMIPF-M6_G16_s20222730350207_e20222730359521_c20222730400027.nc'"
   ]
  },
  {
   "cell_type": "code",
   "execution_count": null,
   "id": "23879cc4",
   "metadata": {},
   "outputs": [],
   "source": [
    "# Connect to the AWS S3 bucket using the Boto3 client.\n",
    "## complete you code here:\n",
    "\n"
   ]
  },
  {
   "cell_type": "code",
   "execution_count": null,
   "id": "abef5d2c",
   "metadata": {},
   "outputs": [],
   "source": [
    "# Download the file from the AWS S3 bucket to the local destination.\n",
    "## complete you code here:\n",
    "\n"
   ]
  }
 ],
 "metadata": {
  "kernelspec": {
   "display_name": "Python 3 (ipykernel)",
   "language": "python",
   "name": "python3"
  },
  "language_info": {
   "codemirror_mode": {
    "name": "ipython",
    "version": 3
   },
   "file_extension": ".py",
   "mimetype": "text/x-python",
   "name": "python",
   "nbconvert_exporter": "python",
   "pygments_lexer": "ipython3",
   "version": "3.10.9"
  }
 },
 "nbformat": 4,
 "nbformat_minor": 5
}
