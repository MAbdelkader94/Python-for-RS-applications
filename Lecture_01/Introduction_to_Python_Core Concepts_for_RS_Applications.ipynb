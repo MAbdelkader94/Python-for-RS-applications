{
 "cells": [
  {
   "cell_type": "markdown",
   "id": "e10b44a2-bb65-4bca-94e2-9240f628309e",
   "metadata": {},
   "source": [
    "# Introduction to Python: Core Concepts for Remote Sensing Applications\n",
    "\n",
    "Python is a powerful and easy-to-learn programming language, characterized by its high-level efficient data structures and a simple yet effective object-oriented programming system. Its elegant syntax and dynamic typing, combined with its interpreted nature, make it an ideal language for scripting and rapid application development in many areas, including remote sensing and weather monitoring through geostationary data analysis.\n",
    "\n",
    "Although Python is utilized across a diverse range of fields, it has recently become the most popular language for scientific programming, particularly in the domain of geospatial and environmental data analysis. This has been facilitated by the integration with libraries such as NumPy for handling arrays and matrices, and Matplotlib for data visualization, among others.\n",
    "\n",
    "This tutorial doesn't assume prior knowledge of Python, but it also doesn't delve into the language in great detail. The focus here is to emphasize how to manipulate arrays for image processing in the context of extracting meaningful insights from geostationary satellite data, a critical component in weather monitoring and analysis.\n"
   ]
  },
  {
   "cell_type": "markdown",
   "id": "3303345b-1325-40d4-9ba7-37b2a0865d0b",
   "metadata": {},
   "source": [
    "## Jupyter Notebooks\n",
    "\n",
    "Traditionally, a Python program is executed using the command `python filename.py`, where `filename.py` is a file containing Python source code.\n",
    "\n",
    "However, for this course, we will be utilizing Jupyter Notebook servers and code notebooks. These notebooks allow us to combine both text and code, organized in cells, providing a convenient platform for experimenting with new concepts and documenting our processes, especially when working with geostationary data for weather monitoring.\n",
    "\n",
    "To initiate the notebook server, execute the command `jupyter notebook` from your command line.\n",
    "\n",
    "If you have existing notebooks you wish to open, navigate to the directory containing those notebooks before running the aforementioned command, facilitating easy access to them later. The server runs continuously while we are using the notebooks.\n",
    "\n",
    "Once the server is up and running, and the browser window is open, you can choose to open a pre-existing notebook or create a new one. Inside the notebook, you can write and execute both text and code, a seamless environment that is particularly handy for data analysis and visualization in weather monitoring projects. Save the state of a notebook at any time using `Ctrl+S`, which preserves both the code and the results of any executions.\n",
    "\n",
    "We have an installation guide available to assist you in setting up Python and Jupyter on your computer, to ensure you can actively participate in this course and explore weather monitoring through geostationary data analysis.\n"
   ]
  },
  {
   "cell_type": "code",
   "execution_count": 1,
   "id": "0a1d77b3-2cc0-425f-9538-dd0a1485a728",
   "metadata": {},
   "outputs": [
    {
     "name": "stdout",
     "output_type": "stream",
     "text": [
      "Hello World\n"
     ]
    }
   ],
   "source": [
    "# test_cell\n",
    "# This is a comment because it starts with #\n",
    "\n",
    "# This is a code cell, an essential tool in analyzing geostationary data.\n",
    "\n",
    "# Execute the cell with Ctrl+Enter. Give it a try.\n",
    "\n",
    "# The print function can be used to display various outputs, such as weather data insights.\n",
    "\n",
    "################################# WRITE YOUR CODE BELOW ################################\n",
    "                     # printing a string, later we will use it to display data insights.\n",
    "########################################################################################"
   ]
  },
  {
   "cell_type": "code",
   "execution_count": 4,
   "id": "75718ac1-5ca2-46e7-bc64-918cd568d8d4",
   "metadata": {},
   "outputs": [
    {
     "name": "stdout",
     "output_type": "stream",
     "text": [
      "4\n"
     ]
    }
   ],
   "source": [
    "################################# WRITE YOUR CODE BELOW ################################\n",
    "                # printing a number, which can be a representation of data like temperature or wind speed in our later analyses.\n",
    "########################################################################################"
   ]
  },
  {
   "cell_type": "markdown",
   "id": "4a0e34b0-7992-4106-a6bf-c8f32efa267d",
   "metadata": {},
   "source": [
    "## Basic Python\n",
    "\n",
    "In Python, variables do not need to be declared explicitly; they are defined when used for the first time. Moreover, although it is not recommended, they can change type by being redefined. This feature can be particularly useful in the dynamic analysis of weather data, where you might be handling various types of data attributes like temperature readings (numerical data) or weather descriptions (string data)."
   ]
  },
  {
   "cell_type": "code",
   "execution_count": 2,
   "id": "a0c8a8e3-ff8d-452f-afa8-b5c62d482515",
   "metadata": {},
   "outputs": [
    {
     "name": "stdout",
     "output_type": "stream",
     "text": [
      "GOES-16\n"
     ]
    }
   ],
   "source": [
    "################################# WRITE YOUR CODE BELOW ################################\n",
    "          # Assigning the name of a geostationary satellite to the variable x\n",
    "          # Printing the value of x, which will display the satellite name\n",
    "########################################################################################"
   ]
  },
  {
   "cell_type": "code",
   "execution_count": 5,
   "id": "781e767c-22d8-47c6-b57c-d189b9534221",
   "metadata": {},
   "outputs": [
    {
     "name": "stdout",
     "output_type": "stream",
     "text": [
      "The average Temperature is:  5 °C\n"
     ]
    }
   ],
   "source": [
    "################################# WRITE YOUR CODE BELOW ################################\n",
    "        # This could represent a meteorological parameter, such as 5°C temperature or 5 m/s wind speed\n",
    "                                                # Printing a message along with the value of x, \n",
    "                                                #including units, to provide a clear context for the meteorological data\n",
    "########################################################################################"
   ]
  },
  {
   "cell_type": "code",
   "execution_count": 4,
   "id": "a4e846b3-068f-4ab9-962f-c9f277a8edd7",
   "metadata": {},
   "outputs": [
    {
     "name": "stdout",
     "output_type": "stream",
     "text": [
      "Updated Average Temperature is:  6.0 °C\n"
     ]
    }
   ],
   "source": [
    "################################# WRITE YOUR CODE BELOW ################################\n",
    "             # Calculating a new temperature value by increasing the previous value (x) by 1.0°C\n",
    "                          # Printing a message along with the value of y to showcase \n",
    "                                                    # the updated meteorological data\n",
    "########################################################################################"
   ]
  },
  {
   "cell_type": "markdown",
   "id": "ac2dc0df-e819-4a98-b8fe-10b69aa9feb8",
   "metadata": {},
   "source": [
    "## Integer Numbers\n",
    "\n",
    "In the context of weather monitoring using geostationary data, integer numbers can represent various types of data such as temperature readings in whole numbers, the count of certain weather events in a given time period, or categorizations based on satellite imagery analysis.\n"
   ]
  },
  {
   "cell_type": "code",
   "execution_count": 1,
   "id": "a94520fc-7c58-49e9-8ac5-c5f4d1a265f5",
   "metadata": {},
   "outputs": [
    {
     "name": "stdout",
     "output_type": "stream",
     "text": [
      "Current Hurricane Category:  5\n"
     ]
    }
   ],
   "source": [
    "################################# WRITE YOUR CODE BELOW ################################\n",
    "      # This could represent a meteorological category, such as a Category 5 hurricane \n",
    "            # as per the Saffir-Simpson scale.\n",
    "                      # Printing a message to contextualize \n",
    "                                             # the meteorological data represented by x_int\n",
    "########################################################################################"
   ]
  },
  {
   "cell_type": "markdown",
   "id": "6f9800e1-aca9-4e6e-be7e-6a1b024ae708",
   "metadata": {},
   "source": [
    "## Decimal Numbers\n",
    "\n",
    "In weather monitoring using geostationary data, decimal numbers often play a significant role. They can represent finer details in meteorological data such as precise temperature readings, humidity levels, or precipitation amounts. These finer data points assist in more accurate analysis and predictions."
   ]
  },
  {
   "cell_type": "code",
   "execution_count": 2,
   "id": "58e1b5f1-b6c9-4ead-8d9d-b804759de15b",
   "metadata": {},
   "outputs": [
    {
     "data": {
      "text/plain": [
       "5.5"
      ]
     },
     "execution_count": 2,
     "metadata": {},
     "output_type": "execute_result"
    }
   ],
   "source": [
    "################################# WRITE YOUR CODE BELOW ################################\n",
    "          # This might represent a precise temperature reading of 5.5°C in weather monitoring.\n",
    "          # Displaying the value of x_flt, illustrating the use of decimal numbers in meteorological data\n",
    "########################################################################################"
   ]
  },
  {
   "cell_type": "markdown",
   "id": "ae49e794-ed7c-416c-8fae-b3217e78f6e6",
   "metadata": {},
   "source": [
    "## Operations Between Integers and Decimals\n",
    "\n",
    "Working with geostationary data for weather monitoring often involves performing operations between integers and decimals. For example, calculating the dew point, a key parameter\n"
   ]
  },
  {
   "cell_type": "code",
   "execution_count": 3,
   "id": "f37e1967-b144-450a-baa8-4fc8dfed3166",
   "metadata": {},
   "outputs": [
    {
     "data": {
      "text/plain": [
       "27.5"
      ]
     },
     "execution_count": 3,
     "metadata": {},
     "output_type": "execute_result"
    }
   ],
   "source": [
    "# In this scenario, let's assume that 'x_int' represents the category number of a hurricane (on a scale of 1 to 5),\n",
    "# and 'x_flt' represents the current temperature in degrees Celsius at the eye of the hurricane.\n",
    "\n",
    "################################# WRITE YOUR CODE BELOW ################################\n",
    "            # Category 5 hurricane, indicating a severe hurricane as per the Saffir-Simpson scale.\n",
    "             # Current temperature at the eye of the hurricane is 5.5°C.\n",
    "########################################################################################\n",
    "\n",
    "# Here, we are calculating a hypothetical parameter that is the product \n",
    "#of the hurricane category and the temperature at the hurricane's eye. \n",
    "#This is a fabricated parameter for the purpose of this exercise.\n",
    "################################# WRITE YOUR CODE BELOW ################################\n",
    "\n",
    "\n",
    "########################################################################################\n",
    "\n",
    "# Displaying the result of the operation, which could be used in further analyses or models related \n",
    "# to weather monitoring and predictions.\n",
    "################################# WRITE YOUR CODE BELOW ################################\n",
    "\n",
    "\n",
    "########################################################################################"
   ]
  },
  {
   "cell_type": "markdown",
   "id": "d0f08bb8-65b4-483c-afa4-b423daa686cd",
   "metadata": {},
   "source": [
    "## Strings\n",
    "\n",
    "In the realm of weather monitoring through geostationary data,strings can hold vital information. They might represent satellite names, meteorological terms, annotations on weather maps, or descriptions in data metadata."
   ]
  },
  {
   "cell_type": "code",
   "execution_count": 4,
   "id": "3a1fd577-783e-4b46-9a3d-adc1d3ab32da",
   "metadata": {},
   "outputs": [
    {
     "name": "stdout",
     "output_type": "stream",
     "text": [
      "Currently accessing data from satellite: GOES-16\n"
     ]
    }
   ],
   "source": [
    "# In weather monitoring, strings can be used to store various types of information. \n",
    "# Here, we're storing the name of a geostationary satellite.\n",
    "################################# WRITE YOUR CODE BELOW ################################\n",
    "\n",
    "                                                              # Using a formatted string to create a more \n",
    "                                                            # descriptive and contextual message\n",
    "    \n",
    "########################################################################################"
   ]
  },
  {
   "cell_type": "markdown",
   "id": "637f3bab-856d-4e4b-b26e-a07dd766f005",
   "metadata": {},
   "source": [
    "## Text String Formatting\n",
    "\n",
    "Text string formatting is a powerful tool when dealing with meteorological data analysis. It allows us to neatly organize and present data in a readable format, which is vital when conveying complex weather information. Whether it's labeling geostationary satellite imagery, creating descriptive annotations on weather maps, or formatting output reports, understanding how to effectively use text string formatting can enhance the clarity and professionalism of your data presentations.\n"
   ]
  },
  {
   "cell_type": "code",
   "execution_count": 5,
   "id": "8a6d7361-3f0b-40bb-aad5-e76066702728",
   "metadata": {},
   "outputs": [
    {
     "name": "stdout",
     "output_type": "stream",
     "text": [
      "Current data retrieved from satellite: GOES-16\n"
     ]
    }
   ],
   "source": [
    "# Here we are concatenating a string literal with a variable that holds the name of a geostationary satellite.\n",
    "# This can be a simple way to create descriptive labels or annotations in data analysis scripts or reports.\n",
    "\n",
    "################################# WRITE YOUR CODE BELOW ################################\n",
    "\n",
    "                      # This will print a message indicating the source of the current data, \n",
    "                    # demonstrating string concatenation in Python.\n",
    "########################################################################################"
   ]
  },
  {
   "cell_type": "code",
   "execution_count": 6,
   "id": "eb80d5b8-bec0-4b5c-bdac-4492b3058a22",
   "metadata": {},
   "outputs": [
    {
     "name": "stdout",
     "output_type": "stream",
     "text": [
      "The current wind speed is: 5 m/s\n"
     ]
    }
   ],
   "source": [
    "# In this cell, we are initializing a variable 'x_02' which could represent a meteorological parameter, \n",
    "# such as wind speed measured in meters per second.\n",
    "\n",
    "################################# WRITE YOUR CODE BELOW ################################\n",
    "        # This might represent a wind speed of 5 m/s, a relevant parameter in weather monitoring.\n",
    "\n",
    "# Printing a message to provide context to the variable.\n",
    "################################# WRITE YOUR CODE BELOW ################################\n",
    "                                                    # This print statement contextualizes \n",
    "                                                 # the value of 'x_02' in terms of weather monitoring.\n",
    "########################################################################################"
   ]
  },
  {
   "cell_type": "code",
   "execution_count": 8,
   "id": "45951de6-b63c-4d1c-b844-8310838defb4",
   "metadata": {},
   "outputs": [
    {
     "name": "stdout",
     "output_type": "stream",
     "text": [
      "Current data readings are: 00005 & 7\n"
     ]
    }
   ],
   "source": [
    "# In this script, we are utilizing Python's str.format method to create a formatted string. \n",
    "# This method can be very useful in formatting meteorological data in a structured and readable way.\n",
    "\n",
    "################################# WRITE YOUR CODE BELOW ################################\n",
    "\n",
    "########################################################################################\n",
    "\n",
    "# Here, {:05d} will format x_02 as a five-digit integer, filled with zeros if necessary. \n",
    "# This can be used to maintain a consistent data format, for instance when \n",
    "# logging meteorological observations at regular intervals.\n",
    "\n",
    "# The {} will be replaced by 7, which might represent another meteorological parameter, \n",
    "#such as the Beaufort scale for wind speed.\n",
    "\n",
    "################################# WRITE YOUR CODE BELOW ################################\n",
    "                         # This will print the formatted message, \n",
    "#demonstrating a way to structure meteorological data for readability and consistency.\n",
    "########################################################################################"
   ]
  },
  {
   "cell_type": "markdown",
   "id": "86207313-c251-49c8-9d39-c0cd180b4c83",
   "metadata": {},
   "source": [
    "## Lists\n",
    "\n",
    "In Python, lists are used to store multiple items in a single variable. Lists are one of the most versatile data types in Python, and they are used extensively in data science and meteorology.\n",
    "\n",
    "For weather monitoring, lists can be employed to store a series of data points collected from geostationary satellites. This could include a range of information such as temperature readings over a period, wind speed data, or a collection of imagery data at different time intervals. \n",
    "\n",
    "In the following sections, we will explore how to create and manipulate lists in Python to efficiently handle meteorological data."
   ]
  },
  {
   "cell_type": "code",
   "execution_count": 10,
   "id": "aa784485-901e-4d81-9699-798ac46fc479",
   "metadata": {},
   "outputs": [
    {
     "name": "stdout",
     "output_type": "stream",
     "text": [
      "Meteorological data points: [10, 9, 8, 7.5, 9]\n"
     ]
    }
   ],
   "source": [
    "# In this cell, we are defining a list called 'Num' which contains a series of meteorological readings. These readings could represent data like temperature or wind speed collected over a series of time intervals from a geostationary satellite.\n",
    "################################# WRITE YOUR CODE BELOW ################################\n",
    "                  # This list might represent data points collected at various time intervals, crucial in analyzing and monitoring weather patterns.\n",
    "########################################################################################\n",
    "\n",
    "\n",
    "# We will print the list to visualize the data points.\n",
    "################################# WRITE YOUR CODE BELOW ################################\n",
    "\n",
    "########################################################################################"
   ]
  },
  {
   "cell_type": "code",
   "execution_count": 11,
   "id": "caf338dd-69bc-4368-9fa3-58eee6cb4938",
   "metadata": {},
   "outputs": [
    {
     "name": "stdout",
     "output_type": "stream",
     "text": [
      "List of geostationary satellites: ['GOES-16', 'GOES-17', 'Himawari-8', 'Meteosat-11', 'Elektro-L']\n"
     ]
    }
   ],
   "source": [
    "# In this cell, we have a list named 'geostationary_satellites' that contains names of several geostationary satellites. These satellites play a vital role in weather monitoring by providing continuous data over a specific geographical area.\n",
    "################################# WRITE YOUR CODE BELOW ################################\n",
    "\n",
    "########################################################################################\n",
    "\n",
    "\n",
    "# Let's print the list to visualize the names of the geostationary satellites.\n",
    "################################# WRITE YOUR CODE BELOW ################################\n",
    "\n",
    "\n",
    "########################################################################################"
   ]
  },
  {
   "cell_type": "code",
   "execution_count": 12,
   "id": "070e0b1a-5b19-48c8-82b2-b869ce3c5b28",
   "metadata": {},
   "outputs": [
    {
     "name": "stdout",
     "output_type": "stream",
     "text": [
      "Sample geostationary satellite data: [True, 10.5, 'Cloud Coverage', [0, 1, 1]]\n"
     ]
    }
   ],
   "source": [
    "# In this cell, we define a list named 'data_sample' that contains a mix of different data types typically encountered when processing geostationary satellite data. \n",
    "# This includes boolean values, floating-point numbers, strings, and even another list (which might represent a series of data points).\n",
    "\n",
    "################################# WRITE YOUR CODE BELOW ################################\n",
    "\n",
    "########################################################################################\n",
    "# Here:\n",
    "# - The boolean value (True) might represent the success status of data retrieval from the satellite.\n",
    "# - The floating-point number (10.5) could be a specific meteorological reading (e.g., temperature or humidity).\n",
    "# - The string (\"Cloud Coverage\") might denote the type of data or analysis being represented.\n",
    "# - The nested list ([0, 1, 1]) could be a series of binary data points representing satellite imagery analysis results (e.g., cloud presence).\n",
    "\n",
    "# Let's print the list to visualize the different elements and their data types.\n",
    "################################# WRITE YOUR CODE BELOW ################################\n",
    "\n",
    "########################################################################################"
   ]
  },
  {
   "cell_type": "markdown",
   "id": "5566a270-c3e4-4477-9377-fd28496a0e58",
   "metadata": {},
   "source": [
    "## Tuples\n",
    "\n",
    "In Python, a tuple is a collection of objects which ordered and immutable. Tuples are sequences, just like lists, but the main difference is that tuples cannot be changed once declared. This makes them ideal for storing data that should not be altered, such as fixed geostationary satellite coordinates or constants used in meteorological calculations.\n",
    "\n",
    "In the context of weather monitoring using geostationary data, tuples can be used to store a variety of data types, like the geographical coordinates of a satellite, date and time information for data collections, or sets of fixed parameters for various meteorological calculations.\n",
    "\n",
    "In the following cells, we will see how to define and use tuples in Python to handle immutable data sets effectively in meteorological analyses."
   ]
  },
  {
   "cell_type": "code",
   "execution_count": 13,
   "id": "c698fd7f-b06f-40f1-8bec-856c16195f51",
   "metadata": {},
   "outputs": [
    {
     "name": "stdout",
     "output_type": "stream",
     "text": [
      "Common instruments on geostationary satellites: ('ABI', 'GLM', 'SEISS', 'EXIS', 'SUVI', 'MAG', 'SWEAP')\n"
     ]
    }
   ],
   "source": [
    "# In this cell, we define a tuple called 'satellite_instruments' that contains the names of various instruments commonly found on geostationary satellites. \n",
    "# These instruments are crucial for monitoring different meteorological variables such as temperature, humidity, wind speed, etc.\n",
    "\n",
    "################################# WRITE YOUR CODE BELOW ################################\n",
    "\n",
    "########################################################################################\n",
    "\n",
    "\n",
    "# Let's print the tuple to visualize the names of the satellite instruments.\n",
    "\n",
    "################################# WRITE YOUR CODE BELOW ################################\n",
    "\n",
    "########################################################################################"
   ]
  },
  {
   "cell_type": "markdown",
   "id": "c4c23b11-a063-46c8-8720-97422697bd31",
   "metadata": {},
   "source": [
    "## Dictionaries\n",
    "\n",
    "Dictionaries are a flexible data structure in Python that allow us to store and manage data in a key-value pair format. This structure is particularly helpful when we are working with complex datasets, such as the ones we obtain from geostationary satellites.\n",
    "\n",
    "In the context of weather monitoring, dictionaries can serve as a structured and organized way to store various kinds of meteorological data. For instance, we can use dictionaries to store data on different weather parameters (like temperature, humidity, wind speed, etc.) collected by various instruments on a geostationary satellite, associating each parameter with a specific time stamp or geographical location.\n",
    "\n",
    "In the following cells, we will explore how to create and manipulate dictionaries in Python to efficiently handle the diverse datasets we encounter in meteorological analysis."
   ]
  },
  {
   "cell_type": "code",
   "execution_count": 14,
   "id": "3b0acc0e-ca37-4d1e-9927-029b75aabf79",
   "metadata": {},
   "outputs": [
    {
     "name": "stdout",
     "output_type": "stream",
     "text": [
      "Recorded weather parameters: {'Temperature (°C)': 25, 'Humidity (%)': 70, 'Wind Speed (km/h)': 15, 'Cloud Coverage (%)': 30, 'Precipitation (mm)': 20}\n"
     ]
    }
   ],
   "source": [
    "# In this cell, we create a dictionary named 'weather_parameters' that stores simulated data representing various weather parameters recorded by a geostationary satellite. \n",
    "# Each key represents a different parameter, and the associated value represents a recorded measurement.\n",
    "################################# WRITE YOUR CODE BELOW ################################\n",
    "\n",
    "\n",
    "\n",
    "\n",
    "\n",
    "########################################################################################\n",
    "\n",
    "\n",
    "# Let's print the dictionary to visualize the weather parameters and their respective recorded values.\n",
    "################################# WRITE YOUR CODE BELOW ################################\n",
    "\n",
    "########################################################################################"
   ]
  },
  {
   "cell_type": "code",
   "execution_count": 15,
   "id": "95f7a809-ef72-41e2-81db-9b666b5f769c",
   "metadata": {},
   "outputs": [
    {
     "name": "stdout",
     "output_type": "stream",
     "text": [
      "Updated weather parameters: {'Temperature (°C)': 25, 'Humidity (%)': 70, 'Wind Speed (km/h)': 15, 'Cloud Coverage (%)': 30, 'Precipitation (mm)': 20, 'UV Index': 8}\n"
     ]
    }
   ],
   "source": [
    "# In this cell, we update the 'weather_parameters' dictionary with new data. We add a new entry for \"UV Index\", a crucial parameter in meteorological analysis.\n",
    "################################# WRITE YOUR CODE BELOW ################################\n",
    "\n",
    "########################################################################################\n",
    "\n",
    "\n",
    "# Let's print the updated dictionary to see all the weather parameters, including the newly added UV Index entry.\n",
    "################################# WRITE YOUR CODE BELOW ################################\n",
    "\n",
    "########################################################################################"
   ]
  },
  {
   "cell_type": "markdown",
   "id": "8a9e9b72-4096-4d73-9ad4-ca3838d3d3a1",
   "metadata": {},
   "source": [
    "## Iterations\n",
    "\n",
    "In the field of meteorology, especially when dealing with geostationary satellite data, we often need to perform operations repetitively, sometimes over large datasets. This is where iterations, a fundamental concept in programming, comes into play.\n",
    "\n",
    "Through iterations, we can automate the process of collecting, analyzing, and visualizing data from geostationary satellites, making the data handling process more efficient and less prone to errors. Python provides several methods for performing iterations, including 'for' and 'while' loops.\n",
    "\n",
    "In the following sections, we will explore how to use iterations in Python to manipulate and analyze satellite data more effectively.\n",
    "\n",
    "- For Loop: This type of loop is used when we want to repeat a block of code a known number of times.\n",
    "- While Loop: This loop continues to execute a block of code as long as a certain condition remains true.\n",
    "\n",
    "Let's delve deeper into these concepts with practical examples related to weather monitoring."
   ]
  },
  {
   "cell_type": "code",
   "execution_count": 16,
   "id": "818eddab-2c36-4dc8-bc79-924019c01295",
   "metadata": {},
   "outputs": [
    {
     "name": "stdout",
     "output_type": "stream",
     "text": [
      "Temperature (°C)\n",
      "Humidity (%)\n",
      "Wind Speed (km/h)\n",
      "Cloud Coverage (%)\n",
      "Precipitation (mm)\n",
      "UV Index\n"
     ]
    }
   ],
   "source": [
    "#Iteration_cell: \n",
    "\n",
    "# In this script, we use a for loop to iterate over the keys in the 'weather_parameters' dictionary. \n",
    "# This loop will print the name of each weather parameter stored in the dictionary, \n",
    "# simulating a simple data retrieval process from our geostationary satellite data set.\n",
    "\n",
    "################################# WRITE YOUR CODE BELOW ################################\n",
    "\n",
    "\n",
    "########################################################################################"
   ]
  },
  {
   "cell_type": "code",
   "execution_count": 19,
   "id": "bbbb7520-b9fe-4d25-a81b-a0fba0d53a01",
   "metadata": {},
   "outputs": [
    {
     "name": "stdout",
     "output_type": "stream",
     "text": [
      "The current AP is 1013 hPa, and the DP is 15°C.\n"
     ]
    }
   ],
   "source": [
    "#Adding_parameters_Cell\n",
    "\n",
    "################################# WRITE YOUR CODE BELOW ################################\n",
    "\n",
    "\n",
    "\n",
    "\n",
    "\n",
    "\n",
    "########################################################################################"
   ]
  },
  {
   "cell_type": "code",
   "execution_count": 20,
   "id": "a08eb102-7431-42e6-b434-691546d8eab2",
   "metadata": {},
   "outputs": [
    {
     "name": "stdout",
     "output_type": "stream",
     "text": [
      "Atmospheric Pressure: 1013 hPa\n",
      "Dew Point (°C): 15°C\n"
     ]
    }
   ],
   "source": [
    "#Exploring_itmes_cell\n",
    "\n",
    "# In this cell, we are using a for loop to iterate over the keys in the 'weather_parameters' dictionary\n",
    "# and print both the parameter name and its value. This simulates a process of reporting and analyzing \n",
    "# meteorological data collected by geostationary satellites.\n",
    "\n",
    "################################# WRITE YOUR CODE BELOW ################################\n",
    "\n",
    "    \n",
    "########################################################################################"
   ]
  },
  {
   "cell_type": "markdown",
   "id": "f4920180",
   "metadata": {},
   "source": [
    "# Turn-in"
   ]
  },
  {
   "cell_type": "markdown",
   "id": "c3dd7404",
   "metadata": {},
   "source": [
    "### Student Task:\n",
    "\n",
    "Now, it's your turn to add a new parameter to the `weather_parameters` dictionary!\n",
    "\n",
    "1. Choose a weather parameter that is monitored by geostationary satellites (e.g., Atmospheric Pressure, Solar Radiation, etc.).\n",
    "2. Add a new key-value pair to the `weather_parameters` dictionary with the chosen parameter and a hypothetical value.\n",
    "3. Print the updated dictionary to verify that your new parameter has been successfully added.\n",
    "\n",
    "Here's a template to get you started:\n",
    "\n",
    "```python\n",
    "# Step 1: Choose a weather parameter and a hypothetical value\n",
    "new_parameter = \"Your Chosen Parameter\"\n",
    "new_value = \"Your Chosen Value\"\n",
    "\n",
    "# Step 2: Add the new parameter to the dictionary\n",
    "weather_parameters[new_parameter] = new_value\n",
    "\n",
    "# Step 3: Print the updated dictionary\n",
    "print(\"Updated weather parameters with your new data:\", weather_parameters)"
   ]
  },
  {
   "cell_type": "code",
   "execution_count": 27,
   "id": "5d2122ba-1cf8-430f-b113-66a6783ad6f2",
   "metadata": {},
   "outputs": [
    {
     "name": "stdout",
     "output_type": "stream",
     "text": [
      "Hello, this is data from the GOES-16 satellite\n"
     ]
    }
   ],
   "source": [
    "# In this script, we are using a formatted string literal (f-string) to create a message that includes the value of a variable representing a geostationary satellite.\n",
    "# This technique can be particularly useful when we want to dynamically include variable data in our messages or outputs.\n",
    "\n",
    "################################# WRITE YOUR CODE BELOW ################################\n",
    "\n",
    "\n",
    "# The f-string includes the value of the 'x_str' variable, which holds the name of a geostationary satellite, dynamically integrating it into the message.\n",
    "########################################################################################\n",
    "\n",
    "\n",
    "################################# WRITE YOUR CODE BELOW ################################\n",
    "              # This will print a message indicating the source of the current data, showcasing the use of f-strings in Python to create dynamic messages.\n",
    "    \n",
    "########################################################################################   "
   ]
  },
  {
   "cell_type": "code",
   "execution_count": 54,
   "id": "4a55550a-d177-4414-b65b-6909b9e06fea",
   "metadata": {},
   "outputs": [
    {
     "name": "stdout",
     "output_type": "stream",
     "text": [
      "Updated weather parameters with new Dew Point data: {'Temperature (°C)': 25, 'Humidity (%)': 70, 'Wind Speed (km/h)': 15, 'Cloud Coverage (%)': 30, 'Precipitation (mm)': 20, 'UV Index': 8, 'Dew Point (°C)': 34}\n"
     ]
    }
   ],
   "source": [
    "# In this cell, we are adding a new weather parameter to our 'weather_parameters' dictionary. Here, we add a \"Dew Point (°C)\" entry with a value of 34, simulating a new piece of data collected by the geostationary satellite.\n",
    "\n",
    "################################# WRITE YOUR CODE BELOW ################################\n",
    "\n",
    "\n",
    "# Let's print the dictionary again to visualize all the weather parameters, including the newly added Dew Point entry.\n",
    "\n",
    "\n",
    "\n",
    "\n",
    "########################################################################################"
   ]
  }
 ],
 "metadata": {
  "kernelspec": {
   "display_name": "Python 3 (ipykernel)",
   "language": "python",
   "name": "python3"
  },
  "language_info": {
   "codemirror_mode": {
    "name": "ipython",
    "version": 3
   },
   "file_extension": ".py",
   "mimetype": "text/x-python",
   "name": "python",
   "nbconvert_exporter": "python",
   "pygments_lexer": "ipython3",
   "version": "3.10.9"
  }
 },
 "nbformat": 4,
 "nbformat_minor": 5
}
